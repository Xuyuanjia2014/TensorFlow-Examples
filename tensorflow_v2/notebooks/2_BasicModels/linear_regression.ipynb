{
 "cells": [
  {
   "cell_type": "markdown",
   "metadata": {},
   "source": [
    "# Linear Regression Example\n",
    "\n",
    "Linear regression implementation with TensorFlow v2 library.\n",
    "\n",
    "This example is using a low-level approach to better understand all mechanics behind the training process.\n",
    "\n",
    "- Author: Aymeric Damien\n",
    "- Project: https://github.com/aymericdamien/TensorFlow-Examples/"
   ]
  },
  {
   "cell_type": "code",
   "execution_count": 83,
   "metadata": {},
   "outputs": [],
   "source": [
    "from __future__ import absolute_import, division, print_function"
   ]
  },
  {
   "cell_type": "code",
   "execution_count": 84,
   "metadata": {},
   "outputs": [],
   "source": [
    "import tensorflow as tf\n",
    "import numpy as np\n",
    "import datetime\n",
    "rng = np.random\n",
    "current_time = datetime.datetime.now().strftime(\"%Y%m%d-%H%M%S\")\n",
    "log_dir = '/root/tfLogs/' + current_time\n",
    "summary_writer = tf.summary.create_file_writer(log_dir)"
   ]
  },
  {
   "cell_type": "code",
   "execution_count": 85,
   "metadata": {},
   "outputs": [],
   "source": [
    "# Parameters.\n",
    "learning_rate = 0.01\n",
    "training_steps = 1000\n",
    "display_step = 50"
   ]
  },
  {
   "cell_type": "code",
   "execution_count": 86,
   "metadata": {},
   "outputs": [],
   "source": [
    "# Training Data.\n",
    "X = np.array([3.3,4.4,5.5,6.71,6.93,4.168,9.779,6.182,7.59,2.167,\n",
    "              7.042,10.791,5.313,7.997,5.654,9.27,3.1])\n",
    "Y = np.array([1.7,2.76,2.09,3.19,1.694,1.573,3.366,2.596,2.53,1.221,\n",
    "              2.827,3.465,1.65,2.904,2.42,2.94,1.3])\n"
   ]
  },
  {
   "cell_type": "code",
   "execution_count": 87,
   "metadata": {},
   "outputs": [],
   "source": [
    "# Weight and Bias, initialized randomly.\n",
    "W = tf.Variable(rng.randn(), name=\"weight\")\n",
    "b = tf.Variable(rng.randn(), name=\"bias\")\n",
    "\n",
    "# Linear regression (Wx + b).\n",
    "def linear_regression(x):\n",
    "    return W * x + b\n",
    "\n",
    "# Mean square error.\n",
    "def mean_square(y_pred, y_true):\n",
    "    return tf.reduce_mean(tf.square(y_pred - y_true))\n",
    "\n",
    "# Stochastic Gradient Descent Optimizer.\n",
    "optimizer = tf.optimizers.SGD(learning_rate)"
   ]
  },
  {
   "cell_type": "code",
   "execution_count": 88,
   "metadata": {},
   "outputs": [],
   "source": [
    "# Optimization process. \n",
    "def run_optimization():\n",
    "    # Wrap computation inside a GradientTape for automatic differentiation.\n",
    "    with tf.GradientTape() as g:\n",
    "        pred = linear_regression(X)\n",
    "        loss = mean_square(pred, Y)\n",
    "\n",
    "    # Compute gradients.\n",
    "    gradients = g.gradient(loss, [W, b])\n",
    "    \n",
    "    # Update W and b following gradients.\n",
    "    optimizer.apply_gradients(zip(gradients, [W, b]))"
   ]
  },
  {
   "cell_type": "code",
   "execution_count": 89,
   "metadata": {},
   "outputs": [
    {
     "name": "stdout",
     "output_type": "stream",
     "text": [
      "step: 50, loss: 0.347588\n",
      "step: 50, loss: 0.347588, W: 0.428086, b: -0.452155\n",
      "step: 100, loss: 0.305786\n",
      "step: 100, loss: 0.305786, W: 0.407893, b: -0.309001\n",
      "step: 150, loss: 0.273003\n",
      "step: 150, loss: 0.273003, W: 0.390012, b: -0.182229\n",
      "step: 200, loss: 0.247294\n",
      "step: 200, loss: 0.247294, W: 0.374177, b: -0.069964\n",
      "step: 250, loss: 0.227133\n",
      "step: 250, loss: 0.227133, W: 0.360153, b: 0.029454\n",
      "step: 300, loss: 0.211322\n",
      "step: 300, loss: 0.211322, W: 0.347735, b: 0.117495\n",
      "step: 350, loss: 0.198922\n",
      "step: 350, loss: 0.198922, W: 0.336738, b: 0.195461\n",
      "step: 400, loss: 0.189199\n",
      "step: 400, loss: 0.189199, W: 0.326999, b: 0.264505\n",
      "step: 450, loss: 0.181573\n",
      "step: 450, loss: 0.181573, W: 0.318375, b: 0.325648\n",
      "step: 500, loss: 0.175593\n",
      "step: 500, loss: 0.175593, W: 0.310737, b: 0.379793\n",
      "step: 550, loss: 0.170903\n",
      "step: 550, loss: 0.170903, W: 0.303974, b: 0.427743\n",
      "step: 600, loss: 0.167225\n",
      "step: 600, loss: 0.167225, W: 0.297984, b: 0.470205\n",
      "step: 650, loss: 0.164340\n",
      "step: 650, loss: 0.164340, W: 0.292680, b: 0.507809\n",
      "step: 700, loss: 0.162079\n",
      "step: 700, loss: 0.162079, W: 0.287983, b: 0.541108\n",
      "step: 750, loss: 0.160305\n",
      "step: 750, loss: 0.160305, W: 0.283824, b: 0.570598\n",
      "step: 800, loss: 0.158914\n",
      "step: 800, loss: 0.158914, W: 0.280140, b: 0.596713\n",
      "step: 850, loss: 0.157823\n",
      "step: 850, loss: 0.157823, W: 0.276878, b: 0.619839\n",
      "step: 900, loss: 0.156967\n",
      "step: 900, loss: 0.156967, W: 0.273989, b: 0.640318\n",
      "step: 950, loss: 0.156296\n",
      "step: 950, loss: 0.156296, W: 0.271431, b: 0.658455\n",
      "step: 1000, loss: 0.155770\n",
      "step: 1000, loss: 0.155770, W: 0.269166, b: 0.674515\n"
     ]
    }
   ],
   "source": [
    "# Run training for the given number of steps.\n",
    "for step in range(1, training_steps + 1):\n",
    "    # Run the optimization to update W and b values.\n",
    "    run_optimization()\n",
    "    \n",
    "    if step % display_step == 0:\n",
    "        pred = linear_regression(X)\n",
    "        loss = mean_square(pred, Y)\n",
    "        with summary_writer.as_default():\n",
    "            print(\"step: %i, loss: %f\" % (step, loss))\n",
    "            tf.summary.scalar(\"epoch_loss\", loss,step)\n",
    "        print(\"step: %i, loss: %f, W: %f, b: %f\" % (step, loss, W.numpy(), b.numpy()))"
   ]
  },
  {
   "cell_type": "code",
   "execution_count": 90,
   "metadata": {},
   "outputs": [],
   "source": [
    "import matplotlib.pyplot as plt"
   ]
  },
  {
   "cell_type": "code",
   "execution_count": 91,
   "metadata": {},
   "outputs": [
    {
     "data": {
      "image/png": "[encoded data removed]",
      "text/plain": [
       "<Figure size 432x288 with 1 Axes>"
      ]
     },
     "metadata": {
      "needs_background": "light"
     },
     "output_type": "display_data"
    }
   ],
   "source": [
    "# Graphic display\n",
    "plt.plot(X, Y, 'ro', label='Original data')\n",
    "plt.plot(X, np.array(W * X + b), label='Fitted line')\n",
    "plt.legend()\n",
    "plt.show()"
   ]
  }
 ],
 "metadata": {
  "kernelspec": {
   "display_name": "Python 3",
   "language": "python",
   "name": "python3"
  },
  "language_info": {
   "codemirror_mode": {
    "name": "ipython",
    "version": 3
   },
   "file_extension": ".py",
   "mimetype": "text/x-python",
   "name": "python",
   "nbconvert_exporter": "python",
   "pygments_lexer": "ipython3",
   "version": "3.6.9"
  }
 },
 "nbformat": 4,
 "nbformat_minor": 4
}
